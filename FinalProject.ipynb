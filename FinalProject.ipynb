{
 "cells": [
  {
   "cell_type": "code",
   "execution_count": 1,
   "metadata": {
    "collapsed": false
   },
   "outputs": [],
   "source": [
    "import scipy.io as sio\n",
    "from sklearn import preprocessing\n",
    "import parmap\n",
    "import numpy as np\n",
    "\n",
    "lb = preprocessing.LabelBinarizer()\n",
    "lb.fit([1,2,3,4,5,6,7,8,9,10])\n",
    "train = sio.loadmat(\"train.mat\")\n",
    "test = sio.loadmat(\"test.mat\")\n",
    "label = train['y']\n",
    "img = train['X']\n",
    "label = np.ravel(label)\n",
    "# Process the label so that it can be read by tensorflow\n",
    "# label = lb.transform(label)\n",
    "\n",
    "Xtest = test['X']\n",
    "ytest = test['y']\n",
    "ytest = np.ravel(ytest)\n",
    "# ytest = lb.transform(ytest)"
   ]
  },
  {
   "cell_type": "code",
   "execution_count": 2,
   "metadata": {
    "collapsed": false
   },
   "outputs": [],
   "source": [
    "# Processing includes converting to gray scale\n",
    "# and binirize image\n",
    "from skimage.filters import threshold_adaptive\n",
    "import numpy as np\n",
    "\n",
    "def process_(i, img):\n",
    "    currentImg = img[:,:,:,i]\n",
    "\n",
    "    # Grayscale image\n",
    "    grayscale = np.dot(currentImg[:,:,:3], [0.299, 0.587, 0.114])\n",
    "\n",
    "    # Binirization\n",
    "    block_size = 15\n",
    "\n",
    "    binary_adaptive = threshold_adaptive(grayscale, block_size, offset=10)\n",
    "\n",
    "    placeholder = np.ravel(binary_adaptive)\n",
    "    return placeholder\n",
    "def process_hog(i,img):\n",
    "    \n",
    "    currentImg = img[:,:,:,i]\n",
    "\n",
    "    # Grayscale image\n",
    "    grayscale = np.dot(currentImg[:,:,:3], [0.299, 0.587, 0.114])\n",
    "\n",
    "    # Binirization\n",
    "    block_size = 15\n",
    "    binary_adaptive = threshold_adaptive(grayscale, block_size, offset=10)\n",
    "    \n",
    "    count0 = np.where \n",
    "\n",
    "    # Extract HOG feature\n",
    "    winSize = (16,16)\n",
    "    blockSize = (16,16)\n",
    "    blockStride = (8,8)\n",
    "    cellSize = (4,4)\n",
    "    nbins = 9\n",
    "    derivAperture = 1\n",
    "    winSigma = 4.\n",
    "    histogramNormType = 0\n",
    "    L2HysThreshold = 2.0000000000000001e-01\n",
    "    gammaCorrection = 0\n",
    "    nlevels = 64\n",
    "    import cv2\n",
    "    hog = cv2.HOGDescriptor(winSize,blockSize,blockStride,cellSize,nbins,derivAperture,winSigma,\n",
    "                            histogramNormType,L2HysThreshold,gammaCorrection,nlevels)\n",
    "    hist = hog.compute(binary_adaptive.astype(np.uint8))\n",
    "    return np.ravel(hist)"
   ]
  },
  {
   "cell_type": "code",
   "execution_count": 3,
   "metadata": {
    "collapsed": false
   },
   "outputs": [
    {
     "ename": "NameError",
     "evalue": "name 'i' is not defined",
     "output_type": "error",
     "traceback": [
      "\u001b[0;31m---------------------------------------------------------------------------\u001b[0m",
      "\u001b[0;31mNameError\u001b[0m                                 Traceback (most recent call last)",
      "\u001b[0;32m<ipython-input-3-4f8e7d1f958b>\u001b[0m in \u001b[0;36m<module>\u001b[0;34m()\u001b[0m\n\u001b[0;32m----> 1\u001b[0;31m \u001b[0mcurrentImg\u001b[0m \u001b[0;34m=\u001b[0m \u001b[0mimg\u001b[0m\u001b[0;34m[\u001b[0m\u001b[0;34m:\u001b[0m\u001b[0;34m,\u001b[0m\u001b[0;34m:\u001b[0m\u001b[0;34m,\u001b[0m\u001b[0;34m:\u001b[0m\u001b[0;34m,\u001b[0m\u001b[0mi\u001b[0m\u001b[0;34m]\u001b[0m\u001b[0;34m\u001b[0m\u001b[0m\n\u001b[0m\u001b[1;32m      2\u001b[0m \u001b[0;34m\u001b[0m\u001b[0m\n\u001b[1;32m      3\u001b[0m \u001b[0;31m# Grayscale image\u001b[0m\u001b[0;34m\u001b[0m\u001b[0;34m\u001b[0m\u001b[0m\n\u001b[1;32m      4\u001b[0m \u001b[0mgrayscale\u001b[0m \u001b[0;34m=\u001b[0m \u001b[0mnp\u001b[0m\u001b[0;34m.\u001b[0m\u001b[0mdot\u001b[0m\u001b[0;34m(\u001b[0m\u001b[0mcurrentImg\u001b[0m\u001b[0;34m[\u001b[0m\u001b[0;34m:\u001b[0m\u001b[0;34m,\u001b[0m\u001b[0;34m:\u001b[0m\u001b[0;34m,\u001b[0m\u001b[0;34m:\u001b[0m\u001b[0;36m3\u001b[0m\u001b[0;34m]\u001b[0m\u001b[0;34m,\u001b[0m \u001b[0;34m[\u001b[0m\u001b[0;36m0.299\u001b[0m\u001b[0;34m,\u001b[0m \u001b[0;36m0.587\u001b[0m\u001b[0;34m,\u001b[0m \u001b[0;36m0.114\u001b[0m\u001b[0;34m]\u001b[0m\u001b[0;34m)\u001b[0m\u001b[0;34m\u001b[0m\u001b[0m\n\u001b[1;32m      5\u001b[0m \u001b[0;34m\u001b[0m\u001b[0m\n",
      "\u001b[0;31mNameError\u001b[0m: name 'i' is not defined"
     ]
    }
   ],
   "source": [
    "currentImg = img[:,:,:,i]\n",
    "\n",
    "# Grayscale image\n",
    "grayscale = np.dot(currentImg[:,:,:3], [0.299, 0.587, 0.114])\n",
    "\n",
    "# Binirization\n",
    "block_size = 15\n",
    "binary_adaptive = threshold_adaptive(grayscale, block_size, offset=10)"
   ]
  },
  {
   "cell_type": "code",
   "execution_count": 4,
   "metadata": {
    "collapsed": false,
    "scrolled": true
   },
   "outputs": [],
   "source": [
    "# %timeit process(img)\n",
    "import multiprocessing as mp\n",
    "# temp = np.zeros((32*32,img.shape[3]), dtype=float)\n",
    "num_img = img.shape[3]\n",
    "num_img_test = Xtest.shape[3]\n",
    "processed = parmap.map(process_hog, range(0,num_img), img)\n",
    "processed_test = parmap.map(process_hog, range(0, num_img_test), Xtest)"
   ]
  },
  {
   "cell_type": "code",
   "execution_count": 79,
   "metadata": {
    "collapsed": false
   },
   "outputs": [
    {
     "name": "stdout",
     "output_type": "stream",
     "text": [
      "(3600,)\n"
     ]
    }
   ],
   "source": [
    "print processed[2].shape"
   ]
  },
  {
   "cell_type": "code",
   "execution_count": 5,
   "metadata": {
    "collapsed": false,
    "scrolled": true
   },
   "outputs": [],
   "source": [
    "s = np.random.RandomState(43)\n",
    "\n",
    "processed = np.array(processed)\n",
    "processed_test = np.array(processed_test)\n",
    "\n",
    "indxtrain = np.arange(num_img)\n",
    "s.shuffle(indxtrain)\n",
    "\n",
    "idxtest = np.arange(num_img_test)\n",
    "s.shuffle(idxtest)\n"
   ]
  },
  {
   "cell_type": "code",
   "execution_count": 6,
   "metadata": {
    "collapsed": false
   },
   "outputs": [
    {
     "name": "stdout",
     "output_type": "stream",
     "text": [
      "Classification report for classifier DecisionTreeClassifier(class_weight=None, criterion='entropy', max_depth=None,\n",
      "            max_features=None, max_leaf_nodes=None, min_samples_leaf=1,\n",
      "            min_samples_split=2, min_weight_fraction_leaf=0.0,\n",
      "            presort=False, random_state=None, splitter='best'):\n",
      "             precision    recall  f1-score   support\n",
      "\n",
      "          1       0.67      0.63      0.65      5099\n",
      "          2       0.63      0.61      0.62      4149\n",
      "          3       0.42      0.44      0.43      2882\n",
      "          4       0.42      0.42      0.42      2523\n",
      "          5       0.49      0.52      0.51      2384\n",
      "          6       0.42      0.42      0.42      1977\n",
      "          7       0.52      0.52      0.52      2019\n",
      "          8       0.34      0.35      0.35      1660\n",
      "          9       0.39      0.41      0.40      1595\n",
      "         10       0.46      0.47      0.47      1744\n",
      "\n",
      "avg / total       0.51      0.51      0.51     26032\n",
      "\n",
      "\n",
      "Confusion matrix:\n",
      "[[3219  223  259  328  103  140  257  133  119  318]\n",
      " [ 230 2520  236  265  127  107  247  152  156  109]\n",
      " [ 218  193 1264  221  258  171   91  221  161   84]\n",
      " [ 312  246  216 1053  140  102   99  130  133   92]\n",
      " [  77  104  296  111 1244  241   65  108   93   45]\n",
      " [ 112   87  199  109  269  824   64  158   73   82]\n",
      " [ 223  231  105   81   67   56 1049   75   65   67]\n",
      " [  98   88  224  112  168  173   38  585  112   62]\n",
      " [  99  203  125  110   90   54   56  110  659   89]\n",
      " [ 195  122   83   93   59  114   70   59  131  818]]\n"
     ]
    }
   ],
   "source": [
    "from sklearn.linear_model import SGDClassifier\n",
    "from sklearn import metrics\n",
    "import sklearn.tree as tr\n",
    "\n",
    "\n",
    "N=num_img_test\n",
    "# clf = SGDClassifier(loss=\"squared_hinge\", n_jobs=3, n_iter=10)\n",
    "clf = tr.DecisionTreeClassifier(criterion='entropy')\n",
    "\n",
    "\n",
    "clf.fit(processed, label)\n",
    "predicted = clf.predict(processed_test[idxtest[:N],:])\n",
    "\n",
    "print(\"Classification report for classifier %s:\\n%s\\n\"\n",
    "      % (clf, metrics.classification_report(ytest[idxtest[:N]], predicted)))\n",
    "print(\"Confusion matrix:\\n%s\" % metrics.confusion_matrix(ytest[idxtest[:N]], predicted))"
   ]
  },
  {
   "cell_type": "code",
   "execution_count": 51,
   "metadata": {
    "collapsed": false
   },
   "outputs": [
    {
     "name": "stdout",
     "output_type": "stream",
     "text": [
      "(20000, 324)\n",
      "(1000, 324)\n",
      "Classification report for classifier SVC(C=1.0, cache_size=200, class_weight=None, coef0=0.0,\n",
      "  decision_function_shape=None, degree=3, gamma=0.001, kernel='rbf',\n",
      "  max_iter=-1, probability=False, random_state=None, shrinking=True,\n",
      "  tol=0.001, verbose=False):\n",
      "             precision    recall  f1-score   support\n",
      "\n",
      "          1       0.55      0.85      0.67       183\n",
      "          2       0.58      0.70      0.64       152\n",
      "          3       0.44      0.59      0.50       113\n",
      "          4       0.51      0.50      0.50       112\n",
      "          5       0.53      0.60      0.56        87\n",
      "          6       0.68      0.36      0.47        78\n",
      "          7       0.84      0.56      0.68        87\n",
      "          8       0.86      0.26      0.40        70\n",
      "          9       0.71      0.29      0.41        58\n",
      "         10       0.88      0.38      0.53        60\n",
      "\n",
      "avg / total       0.62      0.57      0.56      1000\n",
      "\n",
      "\n",
      "Confusion matrix:\n",
      "[[155  12   6   5   1   2   1   0   0   1]\n",
      " [ 16 107   8  15   1   1   3   1   0   0]\n",
      " [ 19  13  67   6   5   2   0   0   1   0]\n",
      " [ 35   6  12  56   1   1   0   0   0   1]\n",
      " [  6   8  14   3  52   1   1   0   2   0]\n",
      " [  4   5  13   7  18  28   0   1   1   1]\n",
      " [ 16  14   2   3   2   0  49   1   0   0]\n",
      " [  6   6  21   6   9   1   0  18   3   0]\n",
      " [ 10   7  10   5   7   0   2   0  17   0]\n",
      " [ 16   6   1   4   3   5   2   0   0  23]]\n"
     ]
    }
   ],
   "source": [
    "# Non linear SVM\n",
    "\n",
    "from sklearn import svm, metrics\n",
    "K = 20000\n",
    "N = 1000\n",
    "classifier = svm.SVC(gamma=0.001)\n",
    "trainImg = processed[indxtrain[:K],:]\n",
    "print trainImg.shape\n",
    "testImg = processed_test[idxtest[:N],:]\n",
    "print testImg.shape\n",
    "classifier.fit(trainImg, label[indxtrain[:K]])\n",
    "\n",
    "predicted = classifier.predict(testImg)\n",
    "\n",
    "print(\"Classification report for classifier %s:\\n%s\\n\"\n",
    "      % (classifier, metrics.classification_report(ytest[idxtest[:N]], predicted)))\n",
    "print(\"Confusion matrix:\\n%s\" % metrics.confusion_matrix(ytest[idxtest[:N]], predicted))\n"
   ]
  }
 ],
 "metadata": {
  "anaconda-cloud": {},
  "kernelspec": {
   "display_name": "Python [conda env:opencv]",
   "language": "python",
   "name": "conda-env-opencv-py"
  },
  "language_info": {
   "codemirror_mode": {
    "name": "ipython",
    "version": 2
   },
   "file_extension": ".py",
   "mimetype": "text/x-python",
   "name": "python",
   "nbconvert_exporter": "python",
   "pygments_lexer": "ipython2",
   "version": "2.7.12"
  }
 },
 "nbformat": 4,
 "nbformat_minor": 1
}
